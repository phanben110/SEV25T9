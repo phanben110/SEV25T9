{
 "cells": [
  {
   "cell_type": "code",
   "execution_count": 1,
   "metadata": {},
   "outputs": [
    {
     "name": "stdout",
     "output_type": "stream",
     "text": [
      "/home/iir/work/ben/NCKU/IIR/SemEval2025_Task9\n",
      "/home/iir/work/ben/NCKU/IIR/SemEval2025_Task9\n"
     ]
    }
   ],
   "source": [
    "import os\n",
    "%cd /home/iir/work/ben/NCKU/IIR/SemEval2025_Task9\n",
    "!pwd"
   ]
  },
  {
   "cell_type": "code",
   "execution_count": 2,
   "metadata": {},
   "outputs": [
    {
     "name": "stderr",
     "output_type": "stream",
     "text": [
      "/root/anaconda3/envs/augllms/lib/python3.11/site-packages/tqdm/auto.py:21: TqdmWarning: IProgress not found. Please update jupyter and ipywidgets. See https://ipywidgets.readthedocs.io/en/stable/user_install.html\n",
      "  from .autonotebook import tqdm as notebook_tqdm\n"
     ]
    }
   ],
   "source": [
    "import torch\n",
    "from torch.utils.data import Dataset, DataLoader\n",
    "from transformers import BertTokenizer, BertForSequenceClassification, AdamW, BertModel\n",
    "from sklearn.model_selection import train_test_split\n",
    "from sklearn.preprocessing import LabelEncoder\n",
    "from sklearn.metrics import accuracy_score, precision_recall_fscore_support\n",
    "import pandas as pd\n",
    "from tqdm import tqdm\n",
    "from datetime import datetime\n",
    "import numpy as np\n",
    "import seaborn as sns\n",
    "import matplotlib.pyplot as plt\n",
    "import os\n",
    "from datetime import datetime\n",
    "import torch\n",
    "import torch.nn as nn\n",
    "from tqdm import tqdm\n",
    "from sklearn.metrics import f1_score, precision_score, recall_score\n",
    "import torch.nn.functional as F\n",
    "from src.MyDataset import MyDataset\n",
    "from src.BertSentimentClassifier import BertSentimentClassifier\n",
    "from src.utils import *\n",
    "import warnings\n",
    "import wandb\n",
    "warnings.filterwarnings(\"ignore\")"
   ]
  },
  {
   "cell_type": "code",
   "execution_count": 3,
   "metadata": {},
   "outputs": [
    {
     "name": "stderr",
     "output_type": "stream",
     "text": [
      "Failed to detect the name of this notebook, you can set it manually with the WANDB_NOTEBOOK_NAME environment variable to enable code saving.\n",
      "\u001b[34m\u001b[1mwandb\u001b[0m: Currently logged in as: \u001b[33mphanben110\u001b[0m. Use \u001b[1m`wandb login --relogin`\u001b[0m to force relogin\n"
     ]
    },
    {
     "data": {
      "text/html": [
       "wandb version 0.18.7 is available!  To upgrade, please run:\n",
       " $ pip install wandb --upgrade"
      ],
      "text/plain": [
       "<IPython.core.display.HTML object>"
      ]
     },
     "metadata": {},
     "output_type": "display_data"
    },
    {
     "data": {
      "text/html": [
       "Tracking run with wandb version 0.16.4"
      ],
      "text/plain": [
       "<IPython.core.display.HTML object>"
      ]
     },
     "metadata": {},
     "output_type": "display_data"
    },
    {
     "data": {
      "text/html": [
       "Run data is saved locally in <code>/home/iir/work/ben/NCKU/IIR/SemEval2025_Task9/wandb/run-20241119_071305-difgndmg</code>"
      ],
      "text/plain": [
       "<IPython.core.display.HTML object>"
      ]
     },
     "metadata": {},
     "output_type": "display_data"
    },
    {
     "data": {
      "text/html": [
       "Syncing run <strong><a href='https://wandb.ai/phanben110/Thesis_SemEval_2025_Task9/runs/difgndmg' target=\"_blank\">ST1_Hazard_Category_V1</a></strong> to <a href='https://wandb.ai/phanben110/Thesis_SemEval_2025_Task9' target=\"_blank\">Weights & Biases</a> (<a href='https://wandb.me/run' target=\"_blank\">docs</a>)<br/>"
      ],
      "text/plain": [
       "<IPython.core.display.HTML object>"
      ]
     },
     "metadata": {},
     "output_type": "display_data"
    },
    {
     "data": {
      "text/html": [
       " View project at <a href='https://wandb.ai/phanben110/Thesis_SemEval_2025_Task9' target=\"_blank\">https://wandb.ai/phanben110/Thesis_SemEval_2025_Task9</a>"
      ],
      "text/plain": [
       "<IPython.core.display.HTML object>"
      ]
     },
     "metadata": {},
     "output_type": "display_data"
    },
    {
     "data": {
      "text/html": [
       " View run at <a href='https://wandb.ai/phanben110/Thesis_SemEval_2025_Task9/runs/difgndmg' target=\"_blank\">https://wandb.ai/phanben110/Thesis_SemEval_2025_Task9/runs/difgndmg</a>"
      ],
      "text/plain": [
       "<IPython.core.display.HTML object>"
      ]
     },
     "metadata": {},
     "output_type": "display_data"
    },
    {
     "data": {
      "text/html": [
       "<button onClick=\"this.nextSibling.style.display='block';this.style.display='none';\">Display W&B run</button><iframe src='https://wandb.ai/phanben110/Thesis_SemEval_2025_Task9/runs/difgndmg?jupyter=true' style='border:none;width:100%;height:420px;display:none;'></iframe>"
      ],
      "text/plain": [
       "<wandb.sdk.wandb_run.Run at 0x72173cc4dc50>"
      ]
     },
     "execution_count": 3,
     "metadata": {},
     "output_type": "execute_result"
    }
   ],
   "source": [
    "data = pd.read_csv('data/incidents_train.csv', index_col=0)\n",
    "project_name  = \"ST1_Hazard_Category_V1\"\n",
    "wandb.init(\n",
    "    project=\"Thesis_SemEval_2025_Task9\",\n",
    "    name=project_name, \n",
    "    config={\n",
    "        \"learning_rate\": 2e-5,\n",
    "        \"epochs\": 150,\n",
    "        \"batch_size\": 400\n",
    "})"
   ]
  },
  {
   "cell_type": "code",
   "execution_count": 4,
   "metadata": {},
   "outputs": [],
   "source": [
    "name_bert = \"alvaroalon2/biobert_diseases_ner\"\n",
    "tokenizer = BertTokenizer.from_pretrained(name_bert) "
   ]
  },
  {
   "cell_type": "code",
   "execution_count": 5,
   "metadata": {},
   "outputs": [],
   "source": [
    "from sklearn.model_selection import train_test_split\n",
    "import pandas as pd\n",
    "\n",
    "def stratified_split(csv_path, stratify_column, test_size=0.2, random_state=2024, debug=False):\n",
    "    \"\"\"\n",
    "    Split data into training and development sets using stratified splitting.\n",
    "    \n",
    "    Parameters:\n",
    "    - csv_path (str): Path to the CSV file.\n",
    "    - stratify_column (str): Column name to use for stratification.\n",
    "    - test_size (float): Proportion of data to use for the development set (default = 0.2).\n",
    "    - random_state (int): Seed for random number generator to ensure reproducibility (default = 2024).\n",
    "    \n",
    "    Returns:\n",
    "    - train_df (pd.DataFrame): Training set.\n",
    "    - dev_df (pd.DataFrame): Development set.\n",
    "    \"\"\"\n",
    "    # Read data from CSV file\n",
    "    data = pd.read_csv(csv_path, index_col=0)\n",
    "    \n",
    "    # Check if the stratify column exists\n",
    "    if stratify_column not in data.columns:\n",
    "        raise ValueError(f\"Column '{stratify_column}' does not exist in the dataset\")\n",
    "\n",
    "    if debug: \n",
    "        # Check distribution of the classes\n",
    "        print(f\"Number of unique classes: {len(data[stratify_column].value_counts())}\")\n",
    "    \n",
    "    # Perform stratified split\n",
    "    train_df, dev_df = train_test_split(\n",
    "        data, \n",
    "        test_size=test_size, \n",
    "        random_state=random_state, \n",
    "        stratify=data[stratify_column]\n",
    "    )\n",
    "    \n",
    "    if debug:\n",
    "        # Display class distribution in the split sets\n",
    "        print(\"\\nClass distribution in the training set:\")\n",
    "        print(train_df[stratify_column].value_counts())\n",
    "        \n",
    "        print(\"\\nClass distribution in the development set:\")\n",
    "        print(dev_df[stratify_column].value_counts())\n",
    "    \n",
    "    return train_df, dev_df\n"
   ]
  },
  {
   "cell_type": "code",
   "execution_count": 6,
   "metadata": {},
   "outputs": [],
   "source": [
    "train_df, val_df = stratified_split(csv_path=\"data/incidents_train.csv\", stratify_column=\"hazard-category\", debug=False)"
   ]
  },
  {
   "cell_type": "code",
   "execution_count": 7,
   "metadata": {},
   "outputs": [],
   "source": [
    "label = \"hazard-category\"\n",
    "label_encoder = LabelEncoder()\n",
    "label_encoder.fit(data[\"hazard-category\"])\n",
    "train_df['label'] = label_encoder.transform(train_df[label])\n",
    "val_df['label'] = label_encoder.transform(val_df[label])"
   ]
  },
  {
   "cell_type": "code",
   "execution_count": 12,
   "metadata": {},
   "outputs": [
    {
     "data": {
      "text/html": [
       "<div>\n",
       "<style scoped>\n",
       "    .dataframe tbody tr th:only-of-type {\n",
       "        vertical-align: middle;\n",
       "    }\n",
       "\n",
       "    .dataframe tbody tr th {\n",
       "        vertical-align: top;\n",
       "    }\n",
       "\n",
       "    .dataframe thead th {\n",
       "        text-align: right;\n",
       "    }\n",
       "</style>\n",
       "<table border=\"1\" class=\"dataframe\">\n",
       "  <thead>\n",
       "    <tr style=\"text-align: right;\">\n",
       "      <th></th>\n",
       "      <th>year</th>\n",
       "      <th>month</th>\n",
       "      <th>day</th>\n",
       "      <th>country</th>\n",
       "      <th>title</th>\n",
       "      <th>text</th>\n",
       "      <th>hazard-category</th>\n",
       "      <th>product-category</th>\n",
       "      <th>hazard</th>\n",
       "      <th>product</th>\n",
       "      <th>label</th>\n",
       "    </tr>\n",
       "  </thead>\n",
       "  <tbody>\n",
       "    <tr>\n",
       "      <th>5530</th>\n",
       "      <td>2022</td>\n",
       "      <td>1</td>\n",
       "      <td>3</td>\n",
       "      <td>us</td>\n",
       "      <td>GHGA, LLC. Issues Allergy Alert on Undeclared ...</td>\n",
       "      <td>January 3, 2022, Conley, GA – GHGA, LLC. is vo...</td>\n",
       "      <td>allergens</td>\n",
       "      <td>prepared dishes and snacks</td>\n",
       "      <td>fish and products thereof</td>\n",
       "      <td>sandwiches</td>\n",
       "      <td>0</td>\n",
       "    </tr>\n",
       "    <tr>\n",
       "      <th>1404</th>\n",
       "      <td>2015</td>\n",
       "      <td>10</td>\n",
       "      <td>22</td>\n",
       "      <td>au</td>\n",
       "      <td>Yuen's Market Trading Co—Chaokoh Young Coconut...</td>\n",
       "      <td>PRA No. 2015/14983 Date published 22 Oct 2015 ...</td>\n",
       "      <td>allergens</td>\n",
       "      <td>non-alcoholic beverages</td>\n",
       "      <td>milk and products thereof</td>\n",
       "      <td>coconut juice</td>\n",
       "      <td>0</td>\n",
       "    </tr>\n",
       "    <tr>\n",
       "      <th>3469</th>\n",
       "      <td>2019</td>\n",
       "      <td>5</td>\n",
       "      <td>3</td>\n",
       "      <td>ca</td>\n",
       "      <td>Feeding Change brand Young Thai Coconut Meat r...</td>\n",
       "      <td>Updated Food Recall Warning - Feeding Change b...</td>\n",
       "      <td>biological</td>\n",
       "      <td>fruits and vegetables</td>\n",
       "      <td>salmonella</td>\n",
       "      <td>coconuts</td>\n",
       "      <td>1</td>\n",
       "    </tr>\n",
       "    <tr>\n",
       "      <th>4589</th>\n",
       "      <td>2020</td>\n",
       "      <td>11</td>\n",
       "      <td>13</td>\n",
       "      <td>ie</td>\n",
       "      <td>Almond in coffee beans by Lorge  from Ireland</td>\n",
       "      <td>Undeclared Whole Almonds in Lorge Roasted Coff...</td>\n",
       "      <td>allergens</td>\n",
       "      <td>cocoa and cocoa preparations, coffee and tea</td>\n",
       "      <td>almond</td>\n",
       "      <td>coffee beans</td>\n",
       "      <td>0</td>\n",
       "    </tr>\n",
       "    <tr>\n",
       "      <th>2264</th>\n",
       "      <td>2017</td>\n",
       "      <td>6</td>\n",
       "      <td>17</td>\n",
       "      <td>us</td>\n",
       "      <td>Supreme Cuisine Recalls Meat and Poultry Fat a...</td>\n",
       "      <td>WASHINGTON, June 17, 2017 – Supreme Cuisine, a...</td>\n",
       "      <td>other hazard</td>\n",
       "      <td>meat, egg and dairy products</td>\n",
       "      <td>processing</td>\n",
       "      <td>bovine fat</td>\n",
       "      <td>8</td>\n",
       "    </tr>\n",
       "    <tr>\n",
       "      <th>...</th>\n",
       "      <td>...</td>\n",
       "      <td>...</td>\n",
       "      <td>...</td>\n",
       "      <td>...</td>\n",
       "      <td>...</td>\n",
       "      <td>...</td>\n",
       "      <td>...</td>\n",
       "      <td>...</td>\n",
       "      <td>...</td>\n",
       "      <td>...</td>\n",
       "      <td>...</td>\n",
       "    </tr>\n",
       "    <tr>\n",
       "      <th>2901</th>\n",
       "      <td>2018</td>\n",
       "      <td>7</td>\n",
       "      <td>1</td>\n",
       "      <td>us</td>\n",
       "      <td>Allergy Alert Issued in Midwest Whole Foods Ma...</td>\n",
       "      <td>Whole Foods Market is voluntarily recalling Wh...</td>\n",
       "      <td>allergens</td>\n",
       "      <td>cereals and bakery products</td>\n",
       "      <td>soybeans and products thereof</td>\n",
       "      <td>cookies</td>\n",
       "      <td>0</td>\n",
       "    </tr>\n",
       "    <tr>\n",
       "      <th>2969</th>\n",
       "      <td>2018</td>\n",
       "      <td>8</td>\n",
       "      <td>4</td>\n",
       "      <td>us</td>\n",
       "      <td>voluntary recall of hostess cookies 'n creme b...</td>\n",
       "      <td>Kansas City, MO – Hostess Brands, LLC has beco...</td>\n",
       "      <td>allergens</td>\n",
       "      <td>cereals and bakery products</td>\n",
       "      <td>eggs and products thereof</td>\n",
       "      <td>cookies</td>\n",
       "      <td>0</td>\n",
       "    </tr>\n",
       "    <tr>\n",
       "      <th>672</th>\n",
       "      <td>2012</td>\n",
       "      <td>7</td>\n",
       "      <td>6</td>\n",
       "      <td>us</td>\n",
       "      <td>2012 - Pacific International Marketing Volunta...</td>\n",
       "      <td>FOR IMMEDIATE RELEASE - July 6, 2012 - Pacific...</td>\n",
       "      <td>biological</td>\n",
       "      <td>fruits and vegetables</td>\n",
       "      <td>salmonella</td>\n",
       "      <td>lettuce</td>\n",
       "      <td>1</td>\n",
       "    </tr>\n",
       "    <tr>\n",
       "      <th>4957</th>\n",
       "      <td>2021</td>\n",
       "      <td>4</td>\n",
       "      <td>18</td>\n",
       "      <td>au</td>\n",
       "      <td>Destination Holdings Pty Ltd — Taylor Rd IGA P...</td>\n",
       "      <td>PRA No. 2021/18968 Date published 18 Apr 2021 ...</td>\n",
       "      <td>allergens</td>\n",
       "      <td>meat, egg and dairy products</td>\n",
       "      <td>soybeans and products thereof</td>\n",
       "      <td>pork sausage</td>\n",
       "      <td>0</td>\n",
       "    </tr>\n",
       "    <tr>\n",
       "      <th>694</th>\n",
       "      <td>2012</td>\n",
       "      <td>8</td>\n",
       "      <td>15</td>\n",
       "      <td>us</td>\n",
       "      <td>Massachusetts Firm Recalls Soup Products That ...</td>\n",
       "      <td>WASHINGTON, August 15, 2012 - Blount Fine Food...</td>\n",
       "      <td>foreign bodies</td>\n",
       "      <td>soups, broths, sauces and condiments</td>\n",
       "      <td>plastic fragment</td>\n",
       "      <td>soup</td>\n",
       "      <td>4</td>\n",
       "    </tr>\n",
       "  </tbody>\n",
       "</table>\n",
       "<p>4065 rows × 11 columns</p>\n",
       "</div>"
      ],
      "text/plain": [
       "      year  month  day country  \\\n",
       "5530  2022      1    3      us   \n",
       "1404  2015     10   22      au   \n",
       "3469  2019      5    3      ca   \n",
       "4589  2020     11   13      ie   \n",
       "2264  2017      6   17      us   \n",
       "...    ...    ...  ...     ...   \n",
       "2901  2018      7    1      us   \n",
       "2969  2018      8    4      us   \n",
       "672   2012      7    6      us   \n",
       "4957  2021      4   18      au   \n",
       "694   2012      8   15      us   \n",
       "\n",
       "                                                  title  \\\n",
       "5530  GHGA, LLC. Issues Allergy Alert on Undeclared ...   \n",
       "1404  Yuen's Market Trading Co—Chaokoh Young Coconut...   \n",
       "3469  Feeding Change brand Young Thai Coconut Meat r...   \n",
       "4589      Almond in coffee beans by Lorge  from Ireland   \n",
       "2264  Supreme Cuisine Recalls Meat and Poultry Fat a...   \n",
       "...                                                 ...   \n",
       "2901  Allergy Alert Issued in Midwest Whole Foods Ma...   \n",
       "2969  voluntary recall of hostess cookies 'n creme b...   \n",
       "672   2012 - Pacific International Marketing Volunta...   \n",
       "4957  Destination Holdings Pty Ltd — Taylor Rd IGA P...   \n",
       "694   Massachusetts Firm Recalls Soup Products That ...   \n",
       "\n",
       "                                                   text hazard-category  \\\n",
       "5530  January 3, 2022, Conley, GA – GHGA, LLC. is vo...       allergens   \n",
       "1404  PRA No. 2015/14983 Date published 22 Oct 2015 ...       allergens   \n",
       "3469  Updated Food Recall Warning - Feeding Change b...      biological   \n",
       "4589  Undeclared Whole Almonds in Lorge Roasted Coff...       allergens   \n",
       "2264  WASHINGTON, June 17, 2017 – Supreme Cuisine, a...    other hazard   \n",
       "...                                                 ...             ...   \n",
       "2901  Whole Foods Market is voluntarily recalling Wh...       allergens   \n",
       "2969  Kansas City, MO – Hostess Brands, LLC has beco...       allergens   \n",
       "672   FOR IMMEDIATE RELEASE - July 6, 2012 - Pacific...      biological   \n",
       "4957  PRA No. 2021/18968 Date published 18 Apr 2021 ...       allergens   \n",
       "694   WASHINGTON, August 15, 2012 - Blount Fine Food...  foreign bodies   \n",
       "\n",
       "                                  product-category  \\\n",
       "5530                    prepared dishes and snacks   \n",
       "1404                       non-alcoholic beverages   \n",
       "3469                         fruits and vegetables   \n",
       "4589  cocoa and cocoa preparations, coffee and tea   \n",
       "2264                  meat, egg and dairy products   \n",
       "...                                            ...   \n",
       "2901                   cereals and bakery products   \n",
       "2969                   cereals and bakery products   \n",
       "672                          fruits and vegetables   \n",
       "4957                  meat, egg and dairy products   \n",
       "694           soups, broths, sauces and condiments   \n",
       "\n",
       "                             hazard        product  label  \n",
       "5530      fish and products thereof     sandwiches      0  \n",
       "1404      milk and products thereof  coconut juice      0  \n",
       "3469                     salmonella       coconuts      1  \n",
       "4589                         almond   coffee beans      0  \n",
       "2264                     processing     bovine fat      8  \n",
       "...                             ...            ...    ...  \n",
       "2901  soybeans and products thereof        cookies      0  \n",
       "2969      eggs and products thereof        cookies      0  \n",
       "672                      salmonella        lettuce      1  \n",
       "4957  soybeans and products thereof   pork sausage      0  \n",
       "694                plastic fragment           soup      4  \n",
       "\n",
       "[4065 rows x 11 columns]"
      ]
     },
     "execution_count": 12,
     "metadata": {},
     "output_type": "execute_result"
    }
   ],
   "source": [
    "train_df"
   ]
  },
  {
   "cell_type": "code",
   "execution_count": 8,
   "metadata": {},
   "outputs": [],
   "source": [
    "# Create data loaders\n",
    "max_len = 50\n",
    "batch_size = 400\n",
    "num_epochs = 150  # Adjust as needed\n",
    "\n",
    "train_dataset = MyDataset(train_df, tokenizer, max_len)\n",
    "train_loader = DataLoader(train_dataset, batch_size=batch_size, shuffle=True)"
   ]
  },
  {
   "cell_type": "code",
   "execution_count": 9,
   "metadata": {},
   "outputs": [],
   "source": [
    "val_dataset = MyDataset(val_df, tokenizer, max_len)\n",
    "val_loader = DataLoader(val_dataset, batch_size=batch_size)"
   ]
  },
  {
   "cell_type": "code",
   "execution_count": 10,
   "metadata": {},
   "outputs": [
    {
     "name": "stderr",
     "output_type": "stream",
     "text": [
      "Some weights of BertModel were not initialized from the model checkpoint at alvaroalon2/biobert_diseases_ner and are newly initialized: ['bert.pooler.dense.bias', 'bert.pooler.dense.weight']\n",
      "You should probably TRAIN this model on a down-stream task to be able to use it for predictions and inference.\n"
     ]
    }
   ],
   "source": [
    "# Define model and optimizer\n",
    "num_classes = train_df[\"label\"].nunique()\n",
    "model = BertSentimentClassifier(name_bert, num_classes)\n",
    "criterion = nn.CrossEntropyLoss()"
   ]
  },
  {
   "cell_type": "code",
   "execution_count": null,
   "metadata": {},
   "outputs": [
    {
     "name": "stdout",
     "output_type": "stream",
     "text": [
      "Epoch 1/150\n"
     ]
    },
    {
     "name": "stderr",
     "output_type": "stream",
     "text": [
      "100%|██████████| 11/11 [00:04<00:00,  2.53it/s]\n",
      "100%|██████████| 3/3 [00:00<00:00,  3.45it/s]\n"
     ]
    },
    {
     "name": "stdout",
     "output_type": "stream",
     "text": [
      "Train -- Loss: 1.5421 | Precision: 0.2538 | Recall: 0.3244 | F1: 0.2415\n",
      "Val   -- Loss: 1.7385 | Precision: 0.3956 | Recall: 0.3830 | F1: 0.2369\n",
      "Time Elapsed: 0:00:05.626059, Time Remaining: 0:13:58.282791 \n",
      "\n",
      "Epoch 2/150\n"
     ]
    },
    {
     "name": "stderr",
     "output_type": "stream",
     "text": [
      "100%|██████████| 11/11 [00:03<00:00,  2.94it/s]\n",
      "100%|██████████| 3/3 [00:00<00:00,  3.45it/s]\n"
     ]
    },
    {
     "name": "stdout",
     "output_type": "stream",
     "text": [
      "Train -- Loss: 1.1407 | Precision: 0.3363 | Recall: 0.4638 | F1: 0.3793\n",
      "Val   -- Loss: 1.5351 | Precision: 0.4882 | Recall: 0.5878 | F1: 0.5000\n",
      "Time Elapsed: 0:00:05.139100, Time Remaining: 0:12:40.586800 \n",
      "\n",
      "Epoch 3/150\n"
     ]
    },
    {
     "name": "stderr",
     "output_type": "stream",
     "text": [
      "100%|██████████| 11/11 [00:03<00:00,  2.94it/s]\n",
      "100%|██████████| 3/3 [00:00<00:00,  3.47it/s]\n"
     ]
    },
    {
     "name": "stdout",
     "output_type": "stream",
     "text": [
      "Train -- Loss: 0.9285 | Precision: 0.4649 | Recall: 0.6028 | F1: 0.5109\n",
      "Val   -- Loss: 1.3072 | Precision: 0.4577 | Recall: 0.6356 | F1: 0.5283\n",
      "Time Elapsed: 0:00:05.138582, Time Remaining: 0:12:35.371554 \n",
      "\n",
      "Epoch 4/150\n"
     ]
    },
    {
     "name": "stderr",
     "output_type": "stream",
     "text": [
      "100%|██████████| 11/11 [00:03<00:00,  2.94it/s]\n",
      "100%|██████████| 3/3 [00:00<00:00,  3.46it/s]\n"
     ]
    },
    {
     "name": "stdout",
     "output_type": "stream",
     "text": [
      "Train -- Loss: 0.7854 | Precision: 0.5647 | Recall: 0.6446 | F1: 0.5630\n",
      "Val   -- Loss: 1.1150 | Precision: 0.6360 | Recall: 0.7027 | F1: 0.6467\n",
      "Time Elapsed: 0:00:05.116358, Time Remaining: 0:12:26.988268 \n",
      "\n",
      "Epoch 5/150\n"
     ]
    },
    {
     "name": "stderr",
     "output_type": "stream",
     "text": [
      "100%|██████████| 11/11 [00:03<00:00,  2.93it/s]\n",
      "100%|██████████| 3/3 [00:00<00:00,  3.46it/s]\n"
     ]
    },
    {
     "name": "stdout",
     "output_type": "stream",
     "text": [
      "Train -- Loss: 0.6545 | Precision: 0.6667 | Recall: 0.7206 | F1: 0.6690\n",
      "Val   -- Loss: 1.0417 | Precision: 0.6906 | Recall: 0.7108 | F1: 0.6800\n",
      "Time Elapsed: 0:00:05.143086, Time Remaining: 0:12:25.747470 \n",
      "\n",
      "Epoch 6/150\n"
     ]
    },
    {
     "name": "stderr",
     "output_type": "stream",
     "text": [
      "100%|██████████| 11/11 [00:03<00:00,  2.93it/s]\n",
      "100%|██████████| 3/3 [00:00<00:00,  3.47it/s]\n"
     ]
    },
    {
     "name": "stdout",
     "output_type": "stream",
     "text": [
      "Train -- Loss: 0.5799 | Precision: 0.7195 | Recall: 0.7313 | F1: 0.6913\n",
      "Val   -- Loss: 0.9079 | Precision: 0.7270 | Recall: 0.7650 | F1: 0.7303\n",
      "Time Elapsed: 0:00:05.136836, Time Remaining: 0:12:19.704384 \n",
      "\n",
      "Epoch 7/150\n"
     ]
    },
    {
     "name": "stderr",
     "output_type": "stream",
     "text": [
      "100%|██████████| 11/11 [00:03<00:00,  2.93it/s]\n",
      "100%|██████████| 3/3 [00:00<00:00,  3.47it/s]\n"
     ]
    },
    {
     "name": "stdout",
     "output_type": "stream",
     "text": [
      "Train -- Loss: 0.4831 | Precision: 0.7526 | Recall: 0.7881 | F1: 0.7588\n",
      "Val   -- Loss: 0.8476 | Precision: 0.7385 | Recall: 0.7793 | F1: 0.7504\n",
      "Time Elapsed: 0:00:05.109419, Time Remaining: 0:12:10.646917 \n",
      "\n",
      "Epoch 8/150\n"
     ]
    },
    {
     "name": "stderr",
     "output_type": "stream",
     "text": [
      "100%|██████████| 11/11 [00:03<00:00,  2.94it/s]\n",
      "100%|██████████| 3/3 [00:00<00:00,  3.47it/s]\n"
     ]
    },
    {
     "name": "stdout",
     "output_type": "stream",
     "text": [
      "Train -- Loss: 0.4334 | Precision: 0.7806 | Recall: 0.8106 | F1: 0.7843\n",
      "Val   -- Loss: 0.8238 | Precision: 0.7432 | Recall: 0.7882 | F1: 0.7633\n",
      "Time Elapsed: 0:00:05.134686, Time Remaining: 0:12:09.125412 \n",
      "\n",
      "Epoch 9/150\n"
     ]
    },
    {
     "name": "stderr",
     "output_type": "stream",
     "text": [
      "100%|██████████| 11/11 [00:03<00:00,  2.94it/s]\n",
      "100%|██████████| 3/3 [00:00<00:00,  3.45it/s]\n"
     ]
    },
    {
     "name": "stdout",
     "output_type": "stream",
     "text": [
      "Train -- Loss: 0.3976 | Precision: 0.7790 | Recall: 0.8238 | F1: 0.7967\n",
      "Val   -- Loss: 0.7693 | Precision: 0.7424 | Recall: 0.7847 | F1: 0.7595\n",
      "Time Elapsed: 0:00:05.128882, Time Remaining: 0:12:03.172362 \n",
      "\n",
      "Epoch 10/150\n"
     ]
    },
    {
     "name": "stderr",
     "output_type": "stream",
     "text": [
      "100%|██████████| 11/11 [00:03<00:00,  2.91it/s]\n",
      "100%|██████████| 3/3 [00:00<00:00,  3.47it/s]\n"
     ]
    },
    {
     "name": "stdout",
     "output_type": "stream",
     "text": [
      "Train -- Loss: 0.3346 | Precision: 0.8111 | Recall: 0.8496 | F1: 0.8264\n",
      "Val   -- Loss: 0.7507 | Precision: 0.7590 | Recall: 0.7863 | F1: 0.7644\n",
      "Time Elapsed: 0:00:05.162315, Time Remaining: 0:12:02.724100 \n",
      "\n",
      "Epoch 11/150\n"
     ]
    },
    {
     "name": "stderr",
     "output_type": "stream",
     "text": [
      "100%|██████████| 11/11 [00:03<00:00,  2.89it/s]\n",
      "100%|██████████| 3/3 [00:00<00:00,  3.47it/s]\n"
     ]
    },
    {
     "name": "stdout",
     "output_type": "stream",
     "text": [
      "Train -- Loss: 0.2855 | Precision: 0.8542 | Recall: 0.8707 | F1: 0.8548\n",
      "Val   -- Loss: 0.7302 | Precision: 0.7916 | Recall: 0.8106 | F1: 0.7936\n",
      "Time Elapsed: 0:00:05.194004, Time Remaining: 0:12:01.966556 \n",
      "\n",
      "Epoch 12/150\n"
     ]
    },
    {
     "name": "stderr",
     "output_type": "stream",
     "text": [
      "100%|██████████| 11/11 [00:03<00:00,  2.89it/s]\n",
      "100%|██████████| 3/3 [00:00<00:00,  3.48it/s]\n"
     ]
    },
    {
     "name": "stdout",
     "output_type": "stream",
     "text": [
      "Train -- Loss: 0.2434 | Precision: 0.8709 | Recall: 0.8897 | F1: 0.8742\n",
      "Val   -- Loss: 0.7453 | Precision: 0.7905 | Recall: 0.7997 | F1: 0.7905\n",
      "Time Elapsed: 0:00:04.668959, Time Remaining: 0:10:44.316342 \n",
      "\n",
      "Epoch 13/150\n"
     ]
    },
    {
     "name": "stderr",
     "output_type": "stream",
     "text": [
      "100%|██████████| 11/11 [00:03<00:00,  2.89it/s]\n",
      "100%|██████████| 3/3 [00:00<00:00,  3.47it/s]\n"
     ]
    },
    {
     "name": "stdout",
     "output_type": "stream",
     "text": [
      "Train -- Loss: 0.2191 | Precision: 0.8926 | Recall: 0.8996 | F1: 0.8892\n",
      "Val   -- Loss: 0.7006 | Precision: 0.8055 | Recall: 0.8186 | F1: 0.8068\n",
      "Time Elapsed: 0:00:05.166705, Time Remaining: 0:11:47.838585 \n",
      "\n",
      "Epoch 14/150\n"
     ]
    },
    {
     "name": "stderr",
     "output_type": "stream",
     "text": [
      "100%|██████████| 11/11 [00:03<00:00,  2.79it/s]\n",
      "100%|██████████| 3/3 [00:00<00:00,  3.45it/s]\n"
     ]
    },
    {
     "name": "stdout",
     "output_type": "stream",
     "text": [
      "Train -- Loss: 0.1957 | Precision: 0.8999 | Recall: 0.9089 | F1: 0.8993\n",
      "Val   -- Loss: 0.6980 | Precision: 0.7958 | Recall: 0.8080 | F1: 0.7959\n",
      "Time Elapsed: 0:00:05.336376, Time Remaining: 0:12:05.747136 \n",
      "\n",
      "Epoch 15/150\n"
     ]
    },
    {
     "name": "stderr",
     "output_type": "stream",
     "text": [
      "100%|██████████| 11/11 [00:03<00:00,  2.87it/s]\n",
      "100%|██████████| 3/3 [00:00<00:00,  3.46it/s]\n"
     ]
    },
    {
     "name": "stdout",
     "output_type": "stream",
     "text": [
      "Train -- Loss: 0.1916 | Precision: 0.8957 | Recall: 0.9020 | F1: 0.8920\n",
      "Val   -- Loss: 0.7040 | Precision: 0.7924 | Recall: 0.8016 | F1: 0.7925\n",
      "Time Elapsed: 0:00:04.701899, Time Remaining: 0:10:34.756365 \n",
      "\n",
      "Epoch 16/150\n"
     ]
    },
    {
     "name": "stderr",
     "output_type": "stream",
     "text": [
      "100%|██████████| 11/11 [00:03<00:00,  2.88it/s]\n",
      "100%|██████████| 3/3 [00:00<00:00,  3.44it/s]\n"
     ]
    },
    {
     "name": "stdout",
     "output_type": "stream",
     "text": [
      "Train -- Loss: 0.1531 | Precision: 0.9280 | Recall: 0.9331 | F1: 0.9270\n",
      "Val   -- Loss: 0.6904 | Precision: 0.7979 | Recall: 0.8104 | F1: 0.8010\n",
      "Time Elapsed: 0:00:05.230625, Time Remaining: 0:11:40.903750 \n",
      "\n",
      "Epoch 17/150\n"
     ]
    },
    {
     "name": "stderr",
     "output_type": "stream",
     "text": [
      "100%|██████████| 11/11 [00:03<00:00,  2.87it/s]\n",
      "100%|██████████| 3/3 [00:00<00:00,  3.45it/s]\n"
     ]
    },
    {
     "name": "stdout",
     "output_type": "stream",
     "text": [
      "Train -- Loss: 0.1433 | Precision: 0.9231 | Recall: 0.9316 | F1: 0.9235\n",
      "Val   -- Loss: 0.7333 | Precision: 0.8083 | Recall: 0.8093 | F1: 0.8058\n",
      "Time Elapsed: 0:00:04.699607, Time Remaining: 0:10:25.047731 \n",
      "\n",
      "Epoch 18/150\n"
     ]
    },
    {
     "name": "stderr",
     "output_type": "stream",
     "text": [
      "100%|██████████| 11/11 [00:03<00:00,  2.88it/s]\n",
      "100%|██████████| 3/3 [00:00<00:00,  3.46it/s]\n"
     ]
    },
    {
     "name": "stdout",
     "output_type": "stream",
     "text": [
      "Train -- Loss: 0.1214 | Precision: 0.9406 | Recall: 0.9431 | F1: 0.9386\n",
      "Val   -- Loss: 0.7014 | Precision: 0.8093 | Recall: 0.8175 | F1: 0.8099\n",
      "Time Elapsed: 0:00:04.695122, Time Remaining: 0:10:19.756104 \n",
      "\n",
      "Epoch 19/150\n"
     ]
    },
    {
     "name": "stderr",
     "output_type": "stream",
     "text": [
      "100%|██████████| 11/11 [00:03<00:00,  2.87it/s]\n",
      "100%|██████████| 3/3 [00:00<00:00,  3.46it/s]\n"
     ]
    },
    {
     "name": "stdout",
     "output_type": "stream",
     "text": [
      "Train -- Loss: 0.1170 | Precision: 0.9319 | Recall: 0.9362 | F1: 0.9311\n",
      "Val   -- Loss: 0.7031 | Precision: 0.8098 | Recall: 0.8176 | F1: 0.8098\n",
      "Time Elapsed: 0:00:04.698764, Time Remaining: 0:10:15.538084 \n",
      "\n",
      "Epoch 20/150\n"
     ]
    },
    {
     "name": "stderr",
     "output_type": "stream",
     "text": [
      "100%|██████████| 11/11 [00:03<00:00,  2.87it/s]\n",
      "100%|██████████| 3/3 [00:00<00:00,  3.46it/s]\n"
     ]
    },
    {
     "name": "stdout",
     "output_type": "stream",
     "text": [
      "Train -- Loss: 0.1125 | Precision: 0.9378 | Recall: 0.9451 | F1: 0.9398\n",
      "Val   -- Loss: 0.6987 | Precision: 0.8078 | Recall: 0.8177 | F1: 0.8107\n",
      "Time Elapsed: 0:00:04.697724, Time Remaining: 0:10:10.704120 \n",
      "\n",
      "Epoch 21/150\n"
     ]
    },
    {
     "name": "stderr",
     "output_type": "stream",
     "text": [
      "100%|██████████| 11/11 [00:03<00:00,  2.87it/s]\n",
      "100%|██████████| 3/3 [00:00<00:00,  3.46it/s]\n"
     ]
    },
    {
     "name": "stdout",
     "output_type": "stream",
     "text": [
      "Train -- Loss: 0.0916 | Precision: 0.9470 | Recall: 0.9492 | F1: 0.9452\n",
      "Val   -- Loss: 0.7097 | Precision: 0.8154 | Recall: 0.8158 | F1: 0.8135\n",
      "Time Elapsed: 0:00:04.700621, Time Remaining: 0:10:06.380109 \n",
      "\n",
      "Epoch 22/150\n"
     ]
    },
    {
     "name": "stderr",
     "output_type": "stream",
     "text": [
      "100%|██████████| 11/11 [00:03<00:00,  2.87it/s]\n",
      "100%|██████████| 3/3 [00:00<00:00,  3.46it/s]\n"
     ]
    },
    {
     "name": "stdout",
     "output_type": "stream",
     "text": [
      "Train -- Loss: 0.0976 | Precision: 0.9497 | Recall: 0.9551 | F1: 0.9499\n",
      "Val   -- Loss: 0.7026 | Precision: 0.8180 | Recall: 0.8182 | F1: 0.8161\n",
      "Time Elapsed: 0:00:04.702003, Time Remaining: 0:10:01.856384 \n",
      "\n",
      "Epoch 23/150\n"
     ]
    },
    {
     "name": "stderr",
     "output_type": "stream",
     "text": [
      "100%|██████████| 11/11 [00:03<00:00,  2.87it/s]\n",
      "100%|██████████| 3/3 [00:00<00:00,  3.46it/s]\n"
     ]
    },
    {
     "name": "stdout",
     "output_type": "stream",
     "text": [
      "Train -- Loss: 0.0837 | Precision: 0.9523 | Recall: 0.9563 | F1: 0.9530\n",
      "Val   -- Loss: 0.7030 | Precision: 0.8148 | Recall: 0.8155 | F1: 0.8131\n",
      "Time Elapsed: 0:00:04.698495, Time Remaining: 0:09:56.708865 \n",
      "\n",
      "Epoch 24/150\n"
     ]
    },
    {
     "name": "stderr",
     "output_type": "stream",
     "text": [
      "100%|██████████| 11/11 [00:03<00:00,  2.87it/s]\n",
      "100%|██████████| 3/3 [00:00<00:00,  3.46it/s]\n"
     ]
    },
    {
     "name": "stdout",
     "output_type": "stream",
     "text": [
      "Train -- Loss: 0.0726 | Precision: 0.9595 | Recall: 0.9610 | F1: 0.9586\n",
      "Val   -- Loss: 0.6635 | Precision: 0.8171 | Recall: 0.8248 | F1: 0.8185\n",
      "Time Elapsed: 0:00:05.240009, Time Remaining: 0:11:00.241134 \n",
      "\n",
      "Epoch 25/150\n"
     ]
    },
    {
     "name": "stderr",
     "output_type": "stream",
     "text": [
      "100%|██████████| 11/11 [00:03<00:00,  2.88it/s]\n",
      "100%|██████████| 3/3 [00:00<00:00,  3.46it/s]\n"
     ]
    },
    {
     "name": "stdout",
     "output_type": "stream",
     "text": [
      "Train -- Loss: 0.0649 | Precision: 0.9605 | Recall: 0.9638 | F1: 0.9613\n",
      "Val   -- Loss: 0.6725 | Precision: 0.8193 | Recall: 0.8262 | F1: 0.8200\n",
      "Time Elapsed: 0:00:04.695150, Time Remaining: 0:09:46.893750 \n",
      "\n",
      "Epoch 26/150\n"
     ]
    },
    {
     "name": "stderr",
     "output_type": "stream",
     "text": [
      "100%|██████████| 11/11 [00:03<00:00,  2.88it/s]\n",
      "100%|██████████| 3/3 [00:00<00:00,  3.45it/s]\n"
     ]
    },
    {
     "name": "stdout",
     "output_type": "stream",
     "text": [
      "Train -- Loss: 0.0587 | Precision: 0.9662 | Recall: 0.9688 | F1: 0.9663\n",
      "Val   -- Loss: 0.6722 | Precision: 0.8189 | Recall: 0.8264 | F1: 0.8202\n",
      "Time Elapsed: 0:00:04.698193, Time Remaining: 0:09:42.575932 \n",
      "\n",
      "Epoch 27/150\n"
     ]
    },
    {
     "name": "stderr",
     "output_type": "stream",
     "text": [
      "100%|██████████| 11/11 [00:03<00:00,  2.87it/s]\n",
      "100%|██████████| 3/3 [00:00<00:00,  3.46it/s]\n"
     ]
    },
    {
     "name": "stdout",
     "output_type": "stream",
     "text": [
      "Train -- Loss: 0.0569 | Precision: 0.9655 | Recall: 0.9688 | F1: 0.9664\n",
      "Val   -- Loss: 0.6839 | Precision: 0.8171 | Recall: 0.8198 | F1: 0.8167\n",
      "Time Elapsed: 0:00:04.699357, Time Remaining: 0:09:38.020911 \n",
      "\n",
      "Epoch 28/150\n"
     ]
    },
    {
     "name": "stderr",
     "output_type": "stream",
     "text": [
      "100%|██████████| 11/11 [00:03<00:00,  2.87it/s]\n",
      "100%|██████████| 3/3 [00:00<00:00,  3.46it/s]\n"
     ]
    },
    {
     "name": "stdout",
     "output_type": "stream",
     "text": [
      "Train -- Loss: 0.0481 | Precision: 0.9681 | Recall: 0.9722 | F1: 0.9695\n",
      "Val   -- Loss: 0.6722 | Precision: 0.8204 | Recall: 0.8230 | F1: 0.8197\n",
      "Time Elapsed: 0:00:04.702118, Time Remaining: 0:09:33.658396 \n",
      "\n",
      "Epoch 29/150\n"
     ]
    },
    {
     "name": "stderr",
     "output_type": "stream",
     "text": [
      "100%|██████████| 11/11 [00:03<00:00,  2.88it/s]\n",
      "100%|██████████| 3/3 [00:00<00:00,  3.45it/s]\n"
     ]
    },
    {
     "name": "stdout",
     "output_type": "stream",
     "text": [
      "Train -- Loss: 0.0432 | Precision: 0.9710 | Recall: 0.9738 | F1: 0.9716\n",
      "Val   -- Loss: 0.6681 | Precision: 0.8172 | Recall: 0.8239 | F1: 0.8186\n",
      "Time Elapsed: 0:00:04.698383, Time Remaining: 0:09:28.504343 \n",
      "\n",
      "Epoch 30/150\n"
     ]
    },
    {
     "name": "stderr",
     "output_type": "stream",
     "text": [
      "100%|██████████| 11/11 [00:03<00:00,  2.88it/s]\n",
      "100%|██████████| 3/3 [00:00<00:00,  3.43it/s]\n"
     ]
    },
    {
     "name": "stdout",
     "output_type": "stream",
     "text": [
      "Train -- Loss: 0.0368 | Precision: 0.9790 | Recall: 0.9811 | F1: 0.9795\n",
      "Val   -- Loss: 0.6754 | Precision: 0.8186 | Recall: 0.8228 | F1: 0.8181\n",
      "Time Elapsed: 0:00:04.696814, Time Remaining: 0:09:23.617680 \n",
      "\n",
      "Epoch 31/150\n"
     ]
    },
    {
     "name": "stderr",
     "output_type": "stream",
     "text": [
      "100%|██████████| 11/11 [00:03<00:00,  2.88it/s]\n",
      "100%|██████████| 3/3 [00:00<00:00,  3.44it/s]\n"
     ]
    },
    {
     "name": "stdout",
     "output_type": "stream",
     "text": [
      "Train -- Loss: 0.0365 | Precision: 0.9775 | Recall: 0.9793 | F1: 0.9777\n",
      "Val   -- Loss: 0.6685 | Precision: 0.8185 | Recall: 0.8236 | F1: 0.8185\n",
      "Time Elapsed: 0:00:04.691289, Time Remaining: 0:09:18.263391 \n",
      "\n",
      "Epoch 32/150\n"
     ]
    },
    {
     "name": "stderr",
     "output_type": "stream",
     "text": [
      "100%|██████████| 11/11 [00:03<00:00,  2.88it/s]\n",
      "100%|██████████| 3/3 [00:00<00:00,  3.46it/s]\n"
     ]
    },
    {
     "name": "stdout",
     "output_type": "stream",
     "text": [
      "Train -- Loss: 0.0323 | Precision: 0.9829 | Recall: 0.9825 | F1: 0.9820\n",
      "Val   -- Loss: 0.6606 | Precision: 0.8254 | Recall: 0.8311 | F1: 0.8260\n",
      "Time Elapsed: 0:00:05.219809, Time Remaining: 0:10:15.937462 \n",
      "\n",
      "Epoch 33/150\n"
     ]
    },
    {
     "name": "stderr",
     "output_type": "stream",
     "text": [
      "100%|██████████| 11/11 [00:03<00:00,  2.88it/s]\n",
      "100%|██████████| 3/3 [00:00<00:00,  3.46it/s]\n"
     ]
    },
    {
     "name": "stdout",
     "output_type": "stream",
     "text": [
      "Train -- Loss: 0.0304 | Precision: 0.9838 | Recall: 0.9847 | F1: 0.9838\n",
      "Val   -- Loss: 0.6724 | Precision: 0.8265 | Recall: 0.8296 | F1: 0.8255\n",
      "Time Elapsed: 0:00:04.692342, Time Remaining: 0:09:09.004014 \n",
      "\n",
      "Epoch 34/150\n"
     ]
    },
    {
     "name": "stderr",
     "output_type": "stream",
     "text": [
      "100%|██████████| 11/11 [00:03<00:00,  2.87it/s]\n",
      "100%|██████████| 3/3 [00:00<00:00,  3.46it/s]\n"
     ]
    },
    {
     "name": "stdout",
     "output_type": "stream",
     "text": [
      "Train -- Loss: 0.0265 | Precision: 0.9872 | Recall: 0.9873 | F1: 0.9868\n",
      "Val   -- Loss: 0.6699 | Precision: 0.8150 | Recall: 0.8212 | F1: 0.8150\n",
      "Time Elapsed: 0:00:04.699633, Time Remaining: 0:09:05.157428 \n",
      "\n",
      "Epoch 35/150\n"
     ]
    },
    {
     "name": "stderr",
     "output_type": "stream",
     "text": [
      "100%|██████████| 11/11 [00:03<00:00,  2.87it/s]\n",
      "100%|██████████| 3/3 [00:00<00:00,  3.46it/s]\n"
     ]
    },
    {
     "name": "stdout",
     "output_type": "stream",
     "text": [
      "Train -- Loss: 0.0255 | Precision: 0.9829 | Recall: 0.9841 | F1: 0.9830\n",
      "Val   -- Loss: 0.6672 | Precision: 0.8279 | Recall: 0.8287 | F1: 0.8250\n",
      "Time Elapsed: 0:00:04.703760, Time Remaining: 0:09:00.932400 \n",
      "\n",
      "Epoch 36/150\n"
     ]
    },
    {
     "name": "stderr",
     "output_type": "stream",
     "text": [
      "100%|██████████| 11/11 [00:03<00:00,  2.87it/s]\n",
      "100%|██████████| 3/3 [00:00<00:00,  3.46it/s]\n"
     ]
    },
    {
     "name": "stdout",
     "output_type": "stream",
     "text": [
      "Train -- Loss: 0.0232 | Precision: 0.9869 | Recall: 0.9877 | F1: 0.9871\n",
      "Val   -- Loss: 0.6561 | Precision: 0.8231 | Recall: 0.8289 | F1: 0.8228\n",
      "Time Elapsed: 0:00:05.229656, Time Remaining: 0:09:56.180784 \n",
      "\n",
      "Epoch 37/150\n"
     ]
    },
    {
     "name": "stderr",
     "output_type": "stream",
     "text": [
      "100%|██████████| 11/11 [00:03<00:00,  2.78it/s]\n",
      "100%|██████████| 3/3 [00:00<00:00,  3.46it/s]\n"
     ]
    },
    {
     "name": "stdout",
     "output_type": "stream",
     "text": [
      "Train -- Loss: 0.0233 | Precision: 0.9852 | Recall: 0.9859 | F1: 0.9851\n",
      "Val   -- Loss: 0.6553 | Precision: 0.8232 | Recall: 0.8289 | F1: 0.8227\n",
      "Time Elapsed: 0:00:05.353831, Time Remaining: 0:10:04.982903 \n",
      "\n",
      "Epoch 38/150\n"
     ]
    },
    {
     "name": "stderr",
     "output_type": "stream",
     "text": [
      "100%|██████████| 11/11 [00:03<00:00,  2.88it/s]\n",
      "100%|██████████| 3/3 [00:00<00:00,  3.46it/s]\n"
     ]
    },
    {
     "name": "stdout",
     "output_type": "stream",
     "text": [
      "Train -- Loss: 0.0211 | Precision: 0.9881 | Recall: 0.9877 | F1: 0.9873\n",
      "Val   -- Loss: 0.6513 | Precision: 0.8291 | Recall: 0.8347 | F1: 0.8283\n",
      "Time Elapsed: 0:00:05.228453, Time Remaining: 0:09:45.586736 \n",
      "\n",
      "Epoch 39/150\n"
     ]
    },
    {
     "name": "stderr",
     "output_type": "stream",
     "text": [
      "100%|██████████| 11/11 [00:03<00:00,  2.88it/s]\n",
      "100%|██████████| 3/3 [00:00<00:00,  3.44it/s]\n"
     ]
    },
    {
     "name": "stdout",
     "output_type": "stream",
     "text": [
      "Train -- Loss: 0.0217 | Precision: 0.9853 | Recall: 0.9852 | F1: 0.9846\n",
      "Val   -- Loss: 0.6607 | Precision: 0.8218 | Recall: 0.8282 | F1: 0.8217\n",
      "Time Elapsed: 0:00:04.697770, Time Remaining: 0:08:41.452470 \n",
      "\n",
      "Epoch 40/150\n"
     ]
    },
    {
     "name": "stderr",
     "output_type": "stream",
     "text": [
      "100%|██████████| 11/11 [00:03<00:00,  2.88it/s]\n",
      "100%|██████████| 3/3 [00:00<00:00,  3.46it/s]\n"
     ]
    },
    {
     "name": "stdout",
     "output_type": "stream",
     "text": [
      "Train -- Loss: 0.0181 | Precision: 0.9885 | Recall: 0.9889 | F1: 0.9883\n",
      "Val   -- Loss: 0.6854 | Precision: 0.8262 | Recall: 0.8250 | F1: 0.8224\n",
      "Time Elapsed: 0:00:04.684108, Time Remaining: 0:08:35.251880 \n",
      "\n",
      "Epoch 41/150\n"
     ]
    },
    {
     "name": "stderr",
     "output_type": "stream",
     "text": [
      "100%|██████████| 11/11 [00:03<00:00,  2.88it/s]\n",
      "100%|██████████| 3/3 [00:00<00:00,  3.46it/s]\n"
     ]
    },
    {
     "name": "stdout",
     "output_type": "stream",
     "text": [
      "Train -- Loss: 0.0167 | Precision: 0.9882 | Recall: 0.9895 | F1: 0.9885\n",
      "Val   -- Loss: 0.6837 | Precision: 0.8278 | Recall: 0.8262 | F1: 0.8228\n",
      "Time Elapsed: 0:00:04.691438, Time Remaining: 0:08:31.366742 \n",
      "\n",
      "Epoch 42/150\n"
     ]
    },
    {
     "name": "stderr",
     "output_type": "stream",
     "text": [
      "100%|██████████| 11/11 [00:03<00:00,  2.88it/s]\n",
      "100%|██████████| 3/3 [00:00<00:00,  3.47it/s]\n"
     ]
    },
    {
     "name": "stdout",
     "output_type": "stream",
     "text": [
      "Train -- Loss: 0.0152 | Precision: 0.9895 | Recall: 0.9898 | F1: 0.9894\n",
      "Val   -- Loss: 0.6727 | Precision: 0.8257 | Recall: 0.8280 | F1: 0.8235\n",
      "Time Elapsed: 0:00:04.686990, Time Remaining: 0:08:26.194920 \n",
      "\n",
      "Epoch 43/150\n"
     ]
    },
    {
     "name": "stderr",
     "output_type": "stream",
     "text": [
      "100%|██████████| 11/11 [00:03<00:00,  2.88it/s]\n",
      "100%|██████████| 3/3 [00:00<00:00,  3.47it/s]\n"
     ]
    },
    {
     "name": "stdout",
     "output_type": "stream",
     "text": [
      "Train -- Loss: 0.0132 | Precision: 0.9920 | Recall: 0.9920 | F1: 0.9918\n",
      "Val   -- Loss: 0.6925 | Precision: 0.8256 | Recall: 0.8240 | F1: 0.8209\n",
      "Time Elapsed: 0:00:04.694527, Time Remaining: 0:08:22.314389 \n",
      "\n",
      "Epoch 44/150\n"
     ]
    },
    {
     "name": "stderr",
     "output_type": "stream",
     "text": [
      "100%|██████████| 11/11 [00:03<00:00,  2.88it/s]\n",
      "100%|██████████| 3/3 [00:00<00:00,  3.46it/s]\n"
     ]
    },
    {
     "name": "stdout",
     "output_type": "stream",
     "text": [
      "Train -- Loss: 0.0129 | Precision: 0.9918 | Recall: 0.9916 | F1: 0.9914\n",
      "Val   -- Loss: 0.6996 | Precision: 0.8309 | Recall: 0.8272 | F1: 0.8253\n",
      "Time Elapsed: 0:00:04.692382, Time Remaining: 0:08:17.392492 \n",
      "\n",
      "Epoch 45/150\n"
     ]
    },
    {
     "name": "stderr",
     "output_type": "stream",
     "text": [
      "100%|██████████| 11/11 [00:03<00:00,  2.88it/s]\n",
      "100%|██████████| 3/3 [00:00<00:00,  3.46it/s]\n"
     ]
    },
    {
     "name": "stdout",
     "output_type": "stream",
     "text": [
      "Train -- Loss: 0.0120 | Precision: 0.9934 | Recall: 0.9936 | F1: 0.9934\n",
      "Val   -- Loss: 0.6902 | Precision: 0.8311 | Recall: 0.8264 | F1: 0.8250\n",
      "Time Elapsed: 0:00:04.694637, Time Remaining: 0:08:12.936885 \n",
      "\n",
      "Epoch 46/150\n"
     ]
    },
    {
     "name": "stderr",
     "output_type": "stream",
     "text": [
      "100%|██████████| 11/11 [00:03<00:00,  2.88it/s]\n",
      "100%|██████████| 3/3 [00:00<00:00,  3.46it/s]\n"
     ]
    },
    {
     "name": "stdout",
     "output_type": "stream",
     "text": [
      "Train -- Loss: 0.0124 | Precision: 0.9925 | Recall: 0.9925 | F1: 0.9922\n",
      "Val   -- Loss: 0.7035 | Precision: 0.8287 | Recall: 0.8239 | F1: 0.8222\n",
      "Time Elapsed: 0:00:04.684761, Time Remaining: 0:08:07.215144 \n",
      "\n",
      "Epoch 47/150\n"
     ]
    },
    {
     "name": "stderr",
     "output_type": "stream",
     "text": [
      "100%|██████████| 11/11 [00:03<00:00,  2.87it/s]\n",
      "100%|██████████| 3/3 [00:00<00:00,  3.46it/s]\n"
     ]
    },
    {
     "name": "stdout",
     "output_type": "stream",
     "text": [
      "Train -- Loss: 0.0120 | Precision: 0.9924 | Recall: 0.9925 | F1: 0.9923\n",
      "Val   -- Loss: 0.6735 | Precision: 0.8266 | Recall: 0.8316 | F1: 0.8254\n",
      "Time Elapsed: 0:00:04.696534, Time Remaining: 0:08:03.743002 \n",
      "\n",
      "Epoch 48/150\n"
     ]
    },
    {
     "name": "stderr",
     "output_type": "stream",
     "text": [
      "100%|██████████| 11/11 [00:03<00:00,  2.88it/s]\n",
      "100%|██████████| 3/3 [00:00<00:00,  3.47it/s]\n"
     ]
    },
    {
     "name": "stdout",
     "output_type": "stream",
     "text": [
      "Train -- Loss: 0.0111 | Precision: 0.9933 | Recall: 0.9934 | F1: 0.9932\n",
      "Val   -- Loss: 0.6859 | Precision: 0.8261 | Recall: 0.8272 | F1: 0.8231\n",
      "Time Elapsed: 0:00:04.690975, Time Remaining: 0:07:58.479450 \n",
      "\n",
      "Epoch 49/150\n"
     ]
    },
    {
     "name": "stderr",
     "output_type": "stream",
     "text": [
      "100%|██████████| 11/11 [00:03<00:00,  2.87it/s]\n",
      "100%|██████████| 3/3 [00:00<00:00,  3.46it/s]\n"
     ]
    },
    {
     "name": "stdout",
     "output_type": "stream",
     "text": [
      "Train -- Loss: 0.0131 | Precision: 0.9889 | Recall: 0.9888 | F1: 0.9882\n",
      "Val   -- Loss: 0.6797 | Precision: 0.8361 | Recall: 0.8353 | F1: 0.8324\n",
      "Time Elapsed: 0:00:04.698974, Time Remaining: 0:07:54.596374 \n",
      "\n",
      "Epoch 50/150\n"
     ]
    },
    {
     "name": "stderr",
     "output_type": "stream",
     "text": [
      "100%|██████████| 11/11 [00:03<00:00,  2.88it/s]\n",
      "100%|██████████| 3/3 [00:00<00:00,  3.46it/s]\n"
     ]
    },
    {
     "name": "stdout",
     "output_type": "stream",
     "text": [
      "Train -- Loss: 0.0156 | Precision: 0.9917 | Recall: 0.9915 | F1: 0.9913\n",
      "Val   -- Loss: 0.7103 | Precision: 0.8224 | Recall: 0.8200 | F1: 0.8188\n",
      "Time Elapsed: 0:00:04.695698, Time Remaining: 0:07:49.569800 \n",
      "\n",
      "Epoch 51/150\n"
     ]
    },
    {
     "name": "stderr",
     "output_type": "stream",
     "text": [
      "100%|██████████| 11/11 [00:03<00:00,  2.88it/s]\n",
      "100%|██████████| 3/3 [00:00<00:00,  3.45it/s]\n"
     ]
    },
    {
     "name": "stdout",
     "output_type": "stream",
     "text": [
      "Train -- Loss: 0.0138 | Precision: 0.9898 | Recall: 0.9898 | F1: 0.9896\n",
      "Val   -- Loss: 0.7033 | Precision: 0.8235 | Recall: 0.8215 | F1: 0.8190\n",
      "Time Elapsed: 0:00:04.697200, Time Remaining: 0:07:45.022800 \n",
      "\n",
      "Epoch 52/150\n"
     ]
    },
    {
     "name": "stderr",
     "output_type": "stream",
     "text": [
      "100%|██████████| 11/11 [00:03<00:00,  2.88it/s]\n",
      "100%|██████████| 3/3 [00:00<00:00,  3.45it/s]\n"
     ]
    },
    {
     "name": "stdout",
     "output_type": "stream",
     "text": [
      "Train -- Loss: 0.0085 | Precision: 0.9939 | Recall: 0.9938 | F1: 0.9937\n",
      "Val   -- Loss: 0.6902 | Precision: 0.8304 | Recall: 0.8280 | F1: 0.8257\n",
      "Time Elapsed: 0:00:04.691767, Time Remaining: 0:07:39.793166 \n",
      "\n",
      "Epoch 53/150\n"
     ]
    },
    {
     "name": "stderr",
     "output_type": "stream",
     "text": [
      "100%|██████████| 11/11 [00:03<00:00,  2.88it/s]\n",
      "100%|██████████| 3/3 [00:00<00:00,  3.44it/s]\n"
     ]
    },
    {
     "name": "stdout",
     "output_type": "stream",
     "text": [
      "Train -- Loss: 0.0078 | Precision: 0.9959 | Recall: 0.9961 | F1: 0.9959\n",
      "Val   -- Loss: 0.6800 | Precision: 0.8315 | Recall: 0.8323 | F1: 0.8290\n",
      "Time Elapsed: 0:00:04.696384, Time Remaining: 0:07:35.549248 \n",
      "\n",
      "Epoch 54/150\n"
     ]
    },
    {
     "name": "stderr",
     "output_type": "stream",
     "text": [
      "100%|██████████| 11/11 [00:03<00:00,  2.88it/s]\n",
      "100%|██████████| 3/3 [00:00<00:00,  3.45it/s]\n"
     ]
    },
    {
     "name": "stdout",
     "output_type": "stream",
     "text": [
      "Train -- Loss: 0.0074 | Precision: 0.9954 | Recall: 0.9957 | F1: 0.9955\n",
      "Val   -- Loss: 0.6941 | Precision: 0.8253 | Recall: 0.8241 | F1: 0.8211\n",
      "Time Elapsed: 0:00:04.689215, Time Remaining: 0:07:30.164640 \n",
      "\n",
      "Epoch 55/150\n"
     ]
    },
    {
     "name": "stderr",
     "output_type": "stream",
     "text": [
      "100%|██████████| 11/11 [00:03<00:00,  2.88it/s]\n",
      "100%|██████████| 3/3 [00:00<00:00,  3.46it/s]\n"
     ]
    },
    {
     "name": "stdout",
     "output_type": "stream",
     "text": [
      "Train -- Loss: 0.0070 | Precision: 0.9963 | Recall: 0.9966 | F1: 0.9964\n",
      "Val   -- Loss: 0.6996 | Precision: 0.8319 | Recall: 0.8296 | F1: 0.8273\n",
      "Time Elapsed: 0:00:04.691147, Time Remaining: 0:07:25.658965 \n",
      "\n",
      "Epoch 56/150\n"
     ]
    },
    {
     "name": "stderr",
     "output_type": "stream",
     "text": [
      "100%|██████████| 11/11 [00:03<00:00,  2.88it/s]\n",
      "100%|██████████| 3/3 [00:00<00:00,  3.46it/s]\n"
     ]
    },
    {
     "name": "stdout",
     "output_type": "stream",
     "text": [
      "Train -- Loss: 0.0063 | Precision: 0.9964 | Recall: 0.9964 | F1: 0.9964\n",
      "Val   -- Loss: 0.7098 | Precision: 0.8248 | Recall: 0.8232 | F1: 0.8204\n",
      "Time Elapsed: 0:00:04.688405, Time Remaining: 0:07:20.710070 \n",
      "\n",
      "Epoch 57/150\n"
     ]
    },
    {
     "name": "stderr",
     "output_type": "stream",
     "text": [
      "100%|██████████| 11/11 [00:03<00:00,  2.88it/s]\n",
      "100%|██████████| 3/3 [00:00<00:00,  3.45it/s]\n"
     ]
    },
    {
     "name": "stdout",
     "output_type": "stream",
     "text": [
      "Train -- Loss: 0.0082 | Precision: 0.9959 | Recall: 0.9956 | F1: 0.9956\n",
      "Val   -- Loss: 0.7136 | Precision: 0.8247 | Recall: 0.8207 | F1: 0.8191\n",
      "Time Elapsed: 0:00:04.691604, Time Remaining: 0:07:16.319172 \n",
      "\n",
      "Epoch 58/150\n"
     ]
    },
    {
     "name": "stderr",
     "output_type": "stream",
     "text": [
      "100%|██████████| 11/11 [00:03<00:00,  2.88it/s]\n",
      "100%|██████████| 3/3 [00:00<00:00,  3.46it/s]\n"
     ]
    },
    {
     "name": "stdout",
     "output_type": "stream",
     "text": [
      "Train -- Loss: 0.0085 | Precision: 0.9930 | Recall: 0.9932 | F1: 0.9929\n",
      "Val   -- Loss: 0.7023 | Precision: 0.8238 | Recall: 0.8266 | F1: 0.8217\n",
      "Time Elapsed: 0:00:04.692736, Time Remaining: 0:07:11.731712 \n",
      "\n",
      "Epoch 59/150\n"
     ]
    },
    {
     "name": "stderr",
     "output_type": "stream",
     "text": [
      "100%|██████████| 11/11 [00:03<00:00,  2.88it/s]\n",
      "100%|██████████| 3/3 [00:00<00:00,  3.46it/s]\n"
     ]
    },
    {
     "name": "stdout",
     "output_type": "stream",
     "text": [
      "Train -- Loss: 0.0066 | Precision: 0.9945 | Recall: 0.9945 | F1: 0.9944\n",
      "Val   -- Loss: 0.6983 | Precision: 0.8224 | Recall: 0.8275 | F1: 0.8210\n",
      "Time Elapsed: 0:00:04.692612, Time Remaining: 0:07:07.027692 \n",
      "\n",
      "Epoch 60/150\n"
     ]
    },
    {
     "name": "stderr",
     "output_type": "stream",
     "text": [
      "100%|██████████| 11/11 [00:03<00:00,  2.88it/s]\n",
      "100%|██████████| 3/3 [00:00<00:00,  3.46it/s]\n"
     ]
    },
    {
     "name": "stdout",
     "output_type": "stream",
     "text": [
      "Train -- Loss: 0.0065 | Precision: 0.9950 | Recall: 0.9950 | F1: 0.9949\n",
      "Val   -- Loss: 0.6971 | Precision: 0.8340 | Recall: 0.8354 | F1: 0.8318\n",
      "Time Elapsed: 0:00:04.694896, Time Remaining: 0:07:02.540640 \n",
      "\n",
      "Epoch 61/150\n"
     ]
    },
    {
     "name": "stderr",
     "output_type": "stream",
     "text": [
      "100%|██████████| 11/11 [00:03<00:00,  3.37it/s]\n",
      "100%|██████████| 3/3 [00:00<00:00,  4.89it/s]\n"
     ]
    },
    {
     "name": "stdout",
     "output_type": "stream",
     "text": [
      "Train -- Loss: 0.0053 | Precision: 0.9967 | Recall: 0.9966 | F1: 0.9966\n",
      "Val   -- Loss: 0.7228 | Precision: 0.8317 | Recall: 0.8253 | F1: 0.8240\n",
      "Time Elapsed: 0:00:03.882426, Time Remaining: 0:05:45.535914 \n",
      "\n",
      "Epoch 62/150\n"
     ]
    },
    {
     "name": "stderr",
     "output_type": "stream",
     "text": [
      "100%|██████████| 11/11 [00:03<00:00,  3.35it/s]\n",
      "100%|██████████| 3/3 [00:00<00:00,  4.89it/s]\n"
     ]
    },
    {
     "name": "stdout",
     "output_type": "stream",
     "text": [
      "Train -- Loss: 0.0070 | Precision: 0.9951 | Recall: 0.9950 | F1: 0.9949\n",
      "Val   -- Loss: 0.7007 | Precision: 0.8289 | Recall: 0.8312 | F1: 0.8266\n",
      "Time Elapsed: 0:00:03.904224, Time Remaining: 0:05:43.571712 \n",
      "\n",
      "Epoch 63/150\n"
     ]
    },
    {
     "name": "stderr",
     "output_type": "stream",
     "text": [
      "100%|██████████| 11/11 [00:03<00:00,  3.37it/s]\n",
      "100%|██████████| 3/3 [00:00<00:00,  4.87it/s]\n"
     ]
    },
    {
     "name": "stdout",
     "output_type": "stream",
     "text": [
      "Train -- Loss: 0.0078 | Precision: 0.9954 | Recall: 0.9952 | F1: 0.9952\n",
      "Val   -- Loss: 0.7373 | Precision: 0.8262 | Recall: 0.8222 | F1: 0.8204\n",
      "Time Elapsed: 0:00:03.885375, Time Remaining: 0:05:38.027625 \n",
      "\n",
      "Epoch 64/150\n"
     ]
    },
    {
     "name": "stderr",
     "output_type": "stream",
     "text": [
      "100%|██████████| 11/11 [00:03<00:00,  3.37it/s]\n",
      "100%|██████████| 3/3 [00:00<00:00,  4.84it/s]\n"
     ]
    },
    {
     "name": "stdout",
     "output_type": "stream",
     "text": [
      "Train -- Loss: 0.0051 | Precision: 0.9965 | Recall: 0.9966 | F1: 0.9964\n",
      "Val   -- Loss: 0.7280 | Precision: 0.8301 | Recall: 0.8251 | F1: 0.8237\n",
      "Time Elapsed: 0:00:03.885449, Time Remaining: 0:05:34.148614 \n",
      "\n",
      "Epoch 65/150\n"
     ]
    },
    {
     "name": "stderr",
     "output_type": "stream",
     "text": [
      "100%|██████████| 11/11 [00:03<00:00,  3.37it/s]\n",
      "100%|██████████| 3/3 [00:00<00:00,  4.87it/s]\n"
     ]
    },
    {
     "name": "stdout",
     "output_type": "stream",
     "text": [
      "Train -- Loss: 0.0045 | Precision: 0.9956 | Recall: 0.9957 | F1: 0.9956\n",
      "Val   -- Loss: 0.7184 | Precision: 0.8308 | Recall: 0.8294 | F1: 0.8263\n",
      "Time Elapsed: 0:00:03.882350, Time Remaining: 0:05:29.999750 \n",
      "\n",
      "Epoch 66/150\n"
     ]
    },
    {
     "name": "stderr",
     "output_type": "stream",
     "text": [
      "100%|██████████| 11/11 [00:03<00:00,  3.37it/s]\n",
      "100%|██████████| 3/3 [00:00<00:00,  4.89it/s]\n"
     ]
    },
    {
     "name": "stdout",
     "output_type": "stream",
     "text": [
      "Train -- Loss: 0.0056 | Precision: 0.9956 | Recall: 0.9956 | F1: 0.9954\n",
      "Val   -- Loss: 0.7268 | Precision: 0.8230 | Recall: 0.8248 | F1: 0.8207\n",
      "Time Elapsed: 0:00:03.882411, Time Remaining: 0:05:26.122524 \n",
      "\n",
      "Epoch 67/150\n"
     ]
    },
    {
     "name": "stderr",
     "output_type": "stream",
     "text": [
      "100%|██████████| 11/11 [00:03<00:00,  3.37it/s]\n",
      "100%|██████████| 3/3 [00:00<00:00,  4.89it/s]\n"
     ]
    },
    {
     "name": "stdout",
     "output_type": "stream",
     "text": [
      "Train -- Loss: 0.0063 | Precision: 0.9949 | Recall: 0.9947 | F1: 0.9947\n",
      "Val   -- Loss: 0.7384 | Precision: 0.8210 | Recall: 0.8207 | F1: 0.8173\n",
      "Time Elapsed: 0:00:03.879552, Time Remaining: 0:05:22.002816 \n",
      "\n",
      "Epoch 68/150\n"
     ]
    },
    {
     "name": "stderr",
     "output_type": "stream",
     "text": [
      "100%|██████████| 11/11 [00:03<00:00,  3.36it/s]\n",
      "100%|██████████| 3/3 [00:00<00:00,  4.89it/s]\n"
     ]
    },
    {
     "name": "stdout",
     "output_type": "stream",
     "text": [
      "Train -- Loss: 0.0074 | Precision: 0.9937 | Recall: 0.9934 | F1: 0.9934\n",
      "Val   -- Loss: 0.7068 | Precision: 0.8240 | Recall: 0.8255 | F1: 0.8213\n",
      "Time Elapsed: 0:00:03.888091, Time Remaining: 0:05:18.823462 \n",
      "\n",
      "Epoch 69/150\n"
     ]
    },
    {
     "name": "stderr",
     "output_type": "stream",
     "text": [
      "100%|██████████| 11/11 [00:03<00:00,  3.37it/s]\n",
      "100%|██████████| 3/3 [00:00<00:00,  4.89it/s]\n"
     ]
    },
    {
     "name": "stdout",
     "output_type": "stream",
     "text": [
      "Train -- Loss: 0.0049 | Precision: 0.9967 | Recall: 0.9966 | F1: 0.9966\n",
      "Val   -- Loss: 0.7166 | Precision: 0.8214 | Recall: 0.8222 | F1: 0.8176\n",
      "Time Elapsed: 0:00:03.884377, Time Remaining: 0:05:14.634537 \n",
      "\n",
      "Epoch 70/150\n"
     ]
    },
    {
     "name": "stderr",
     "output_type": "stream",
     "text": [
      "100%|██████████| 11/11 [00:03<00:00,  3.37it/s]\n",
      "100%|██████████| 3/3 [00:00<00:00,  4.88it/s]\n"
     ]
    },
    {
     "name": "stdout",
     "output_type": "stream",
     "text": [
      "Train -- Loss: 0.0043 | Precision: 0.9967 | Recall: 0.9966 | F1: 0.9966\n",
      "Val   -- Loss: 0.7014 | Precision: 0.8264 | Recall: 0.8298 | F1: 0.8249\n",
      "Time Elapsed: 0:00:03.883600, Time Remaining: 0:05:10.688000 \n",
      "\n",
      "Epoch 71/150\n"
     ]
    },
    {
     "name": "stderr",
     "output_type": "stream",
     "text": [
      "100%|██████████| 11/11 [00:03<00:00,  3.36it/s]\n",
      "100%|██████████| 3/3 [00:00<00:00,  4.79it/s]\n"
     ]
    },
    {
     "name": "stdout",
     "output_type": "stream",
     "text": [
      "Train -- Loss: 0.0037 | Precision: 0.9973 | Recall: 0.9973 | F1: 0.9973\n",
      "Val   -- Loss: 0.7314 | Precision: 0.8285 | Recall: 0.8214 | F1: 0.8211\n",
      "Time Elapsed: 0:00:03.898936, Time Remaining: 0:05:08.015944 \n",
      "\n",
      "Epoch 72/150\n"
     ]
    },
    {
     "name": "stderr",
     "output_type": "stream",
     "text": [
      "100%|██████████| 11/11 [00:03<00:00,  3.38it/s]\n",
      "100%|██████████| 3/3 [00:00<00:00,  4.87it/s]\n"
     ]
    },
    {
     "name": "stdout",
     "output_type": "stream",
     "text": [
      "Train -- Loss: 0.0048 | Precision: 0.9962 | Recall: 0.9961 | F1: 0.9961\n",
      "Val   -- Loss: 0.7181 | Precision: 0.8284 | Recall: 0.8308 | F1: 0.8264\n",
      "Time Elapsed: 0:00:03.873614, Time Remaining: 0:05:02.141892 \n",
      "\n",
      "Epoch 73/150\n"
     ]
    },
    {
     "name": "stderr",
     "output_type": "stream",
     "text": [
      "100%|██████████| 11/11 [00:03<00:00,  3.37it/s]\n",
      "100%|██████████| 3/3 [00:00<00:00,  4.90it/s]\n"
     ]
    },
    {
     "name": "stdout",
     "output_type": "stream",
     "text": [
      "Train -- Loss: 0.0050 | Precision: 0.9967 | Recall: 0.9966 | F1: 0.9966\n",
      "Val   -- Loss: 0.7193 | Precision: 0.8318 | Recall: 0.8346 | F1: 0.8296\n",
      "Time Elapsed: 0:00:03.879873, Time Remaining: 0:04:58.750221 \n",
      "\n",
      "Epoch 74/150\n"
     ]
    },
    {
     "name": "stderr",
     "output_type": "stream",
     "text": [
      "100%|██████████| 11/11 [00:03<00:00,  3.37it/s]\n",
      "100%|██████████| 3/3 [00:00<00:00,  4.89it/s]\n"
     ]
    },
    {
     "name": "stdout",
     "output_type": "stream",
     "text": [
      "Train -- Loss: 0.0043 | Precision: 0.9973 | Recall: 0.9973 | F1: 0.9973\n",
      "Val   -- Loss: 0.7331 | Precision: 0.8240 | Recall: 0.8240 | F1: 0.8207\n",
      "Time Elapsed: 0:00:03.881800, Time Remaining: 0:04:55.016800 \n",
      "\n",
      "Epoch 75/150\n"
     ]
    },
    {
     "name": "stderr",
     "output_type": "stream",
     "text": [
      "100%|██████████| 11/11 [00:03<00:00,  3.37it/s]\n",
      "100%|██████████| 3/3 [00:00<00:00,  4.85it/s]\n"
     ]
    },
    {
     "name": "stdout",
     "output_type": "stream",
     "text": [
      "Train -- Loss: 0.0034 | Precision: 0.9973 | Recall: 0.9973 | F1: 0.9973\n",
      "Val   -- Loss: 0.7346 | Precision: 0.8307 | Recall: 0.8239 | F1: 0.8237\n",
      "Time Elapsed: 0:00:03.887292, Time Remaining: 0:04:51.546900 \n",
      "\n",
      "Epoch 76/150\n"
     ]
    },
    {
     "name": "stderr",
     "output_type": "stream",
     "text": [
      "100%|██████████| 11/11 [00:03<00:00,  3.37it/s]\n",
      "100%|██████████| 3/3 [00:00<00:00,  4.76it/s]\n"
     ]
    },
    {
     "name": "stdout",
     "output_type": "stream",
     "text": [
      "Train -- Loss: 0.0043 | Precision: 0.9962 | Recall: 0.9961 | F1: 0.9961\n",
      "Val   -- Loss: 0.7282 | Precision: 0.8261 | Recall: 0.8248 | F1: 0.8211\n",
      "Time Elapsed: 0:00:03.897016, Time Remaining: 0:04:48.379184 \n",
      "\n",
      "Epoch 77/150\n"
     ]
    },
    {
     "name": "stderr",
     "output_type": "stream",
     "text": [
      "100%|██████████| 11/11 [00:03<00:00,  3.37it/s]\n",
      "100%|██████████| 3/3 [00:00<00:00,  4.90it/s]\n"
     ]
    },
    {
     "name": "stdout",
     "output_type": "stream",
     "text": [
      "Train -- Loss: 0.0034 | Precision: 0.9969 | Recall: 0.9970 | F1: 0.9969\n",
      "Val   -- Loss: 0.7052 | Precision: 0.8312 | Recall: 0.8323 | F1: 0.8285\n",
      "Time Elapsed: 0:00:03.883068, Time Remaining: 0:04:43.463964 \n",
      "\n",
      "Epoch 78/150\n"
     ]
    },
    {
     "name": "stderr",
     "output_type": "stream",
     "text": [
      "100%|██████████| 11/11 [00:03<00:00,  3.38it/s]\n",
      "100%|██████████| 3/3 [00:00<00:00,  4.90it/s]\n"
     ]
    },
    {
     "name": "stdout",
     "output_type": "stream",
     "text": [
      "Train -- Loss: 0.0032 | Precision: 0.9971 | Recall: 0.9973 | F1: 0.9972\n",
      "Val   -- Loss: 0.7224 | Precision: 0.8226 | Recall: 0.8216 | F1: 0.8189\n",
      "Time Elapsed: 0:00:03.869525, Time Remaining: 0:04:38.605800 \n",
      "\n",
      "Epoch 79/150\n"
     ]
    },
    {
     "name": "stderr",
     "output_type": "stream",
     "text": [
      "100%|██████████| 11/11 [00:03<00:00,  3.18it/s]\n",
      "100%|██████████| 3/3 [00:00<00:00,  3.45it/s]\n"
     ]
    },
    {
     "name": "stdout",
     "output_type": "stream",
     "text": [
      "Train -- Loss: 0.0054 | Precision: 0.9967 | Recall: 0.9966 | F1: 0.9966\n",
      "Val   -- Loss: 0.7123 | Precision: 0.8324 | Recall: 0.8340 | F1: 0.8292\n",
      "Time Elapsed: 0:00:04.336944, Time Remaining: 0:05:07.923024 \n",
      "\n",
      "Epoch 80/150\n"
     ]
    },
    {
     "name": "stderr",
     "output_type": "stream",
     "text": [
      "100%|██████████| 11/11 [00:03<00:00,  3.05it/s]\n",
      "100%|██████████| 3/3 [00:00<00:00,  4.90it/s]\n"
     ]
    },
    {
     "name": "stdout",
     "output_type": "stream",
     "text": [
      "Train -- Loss: 0.0050 | Precision: 0.9949 | Recall: 0.9941 | F1: 0.9942\n",
      "Val   -- Loss: 0.7249 | Precision: 0.8327 | Recall: 0.8315 | F1: 0.8278\n",
      "Time Elapsed: 0:00:04.219464, Time Remaining: 0:04:55.362480 \n",
      "\n",
      "Epoch 81/150\n"
     ]
    },
    {
     "name": "stderr",
     "output_type": "stream",
     "text": [
      "100%|██████████| 11/11 [00:03<00:00,  3.37it/s]\n",
      "100%|██████████| 3/3 [00:00<00:00,  4.86it/s]\n"
     ]
    },
    {
     "name": "stdout",
     "output_type": "stream",
     "text": [
      "Train -- Loss: 0.0036 | Precision: 0.9958 | Recall: 0.9954 | F1: 0.9955\n",
      "Val   -- Loss: 0.7279 | Precision: 0.8243 | Recall: 0.8248 | F1: 0.8206\n",
      "Time Elapsed: 0:00:03.884720, Time Remaining: 0:04:28.045680 \n",
      "\n",
      "Epoch 82/150\n"
     ]
    },
    {
     "name": "stderr",
     "output_type": "stream",
     "text": [
      "100%|██████████| 11/11 [00:03<00:00,  3.37it/s]\n",
      "100%|██████████| 3/3 [00:00<00:00,  4.89it/s]\n"
     ]
    },
    {
     "name": "stdout",
     "output_type": "stream",
     "text": [
      "Train -- Loss: 0.0053 | Precision: 0.9948 | Recall: 0.9945 | F1: 0.9945\n",
      "Val   -- Loss: 0.7095 | Precision: 0.8293 | Recall: 0.8312 | F1: 0.8267\n",
      "Time Elapsed: 0:00:03.880528, Time Remaining: 0:04:23.875904 \n",
      "\n",
      "Epoch 83/150\n"
     ]
    },
    {
     "name": "stderr",
     "output_type": "stream",
     "text": [
      "100%|██████████| 11/11 [00:03<00:00,  3.37it/s]\n",
      "100%|██████████| 3/3 [00:00<00:00,  4.90it/s]\n"
     ]
    },
    {
     "name": "stdout",
     "output_type": "stream",
     "text": [
      "Train -- Loss: 0.0081 | Precision: 0.9941 | Recall: 0.9939 | F1: 0.9938\n",
      "Val   -- Loss: 0.7198 | Precision: 0.8242 | Recall: 0.8207 | F1: 0.8186\n",
      "Time Elapsed: 0:00:03.878330, Time Remaining: 0:04:19.848110 \n",
      "\n",
      "Epoch 84/150\n"
     ]
    },
    {
     "name": "stderr",
     "output_type": "stream",
     "text": [
      "100%|██████████| 11/11 [00:03<00:00,  3.37it/s]\n",
      "100%|██████████| 3/3 [00:00<00:00,  4.89it/s]\n"
     ]
    },
    {
     "name": "stdout",
     "output_type": "stream",
     "text": [
      "Train -- Loss: 0.0043 | Precision: 0.9964 | Recall: 0.9964 | F1: 0.9963\n",
      "Val   -- Loss: 0.7103 | Precision: 0.8282 | Recall: 0.8254 | F1: 0.8232\n",
      "Time Elapsed: 0:00:03.883382, Time Remaining: 0:04:16.303212 \n",
      "\n",
      "Epoch 85/150\n"
     ]
    },
    {
     "name": "stderr",
     "output_type": "stream",
     "text": [
      "100%|██████████| 11/11 [00:03<00:00,  3.29it/s]\n",
      "100%|██████████| 3/3 [00:00<00:00,  4.90it/s]\n"
     ]
    },
    {
     "name": "stdout",
     "output_type": "stream",
     "text": [
      "Train -- Loss: 0.0033 | Precision: 0.9976 | Recall: 0.9977 | F1: 0.9976\n",
      "Val   -- Loss: 0.6846 | Precision: 0.8388 | Recall: 0.8411 | F1: 0.8364\n",
      "Time Elapsed: 0:00:03.956704, Time Remaining: 0:04:17.185760 \n",
      "\n",
      "Epoch 86/150\n"
     ]
    },
    {
     "name": "stderr",
     "output_type": "stream",
     "text": [
      "100%|██████████| 11/11 [00:03<00:00,  3.37it/s]\n",
      "100%|██████████| 3/3 [00:00<00:00,  4.89it/s]\n"
     ]
    },
    {
     "name": "stdout",
     "output_type": "stream",
     "text": [
      "Train -- Loss: 0.0026 | Precision: 0.9980 | Recall: 0.9980 | F1: 0.9980\n",
      "Val   -- Loss: 0.6928 | Precision: 0.8328 | Recall: 0.8337 | F1: 0.8302\n",
      "Time Elapsed: 0:00:03.885166, Time Remaining: 0:04:08.650624 \n",
      "\n",
      "Epoch 87/150\n"
     ]
    },
    {
     "name": "stderr",
     "output_type": "stream",
     "text": [
      "100%|██████████| 11/11 [00:03<00:00,  3.38it/s]\n",
      "100%|██████████| 3/3 [00:00<00:00,  4.89it/s]\n"
     ]
    },
    {
     "name": "stdout",
     "output_type": "stream",
     "text": [
      "Train -- Loss: 0.0020 | Precision: 0.9991 | Recall: 0.9991 | F1: 0.9991\n",
      "Val   -- Loss: 0.7143 | Precision: 0.8300 | Recall: 0.8286 | F1: 0.8259\n",
      "Time Elapsed: 0:00:03.868197, Time Remaining: 0:04:03.696411 \n",
      "\n",
      "Epoch 88/150\n"
     ]
    },
    {
     "name": "stderr",
     "output_type": "stream",
     "text": [
      "100%|██████████| 11/11 [00:03<00:00,  3.38it/s]\n",
      "100%|██████████| 3/3 [00:00<00:00,  4.87it/s]\n"
     ]
    },
    {
     "name": "stdout",
     "output_type": "stream",
     "text": [
      "Train -- Loss: 0.0028 | Precision: 0.9960 | Recall: 0.9970 | F1: 0.9964\n",
      "Val   -- Loss: 0.7107 | Precision: 0.8289 | Recall: 0.8329 | F1: 0.8275\n",
      "Time Elapsed: 0:00:03.873921, Time Remaining: 0:04:00.183102 \n",
      "\n",
      "Epoch 89/150\n"
     ]
    },
    {
     "name": "stderr",
     "output_type": "stream",
     "text": [
      "100%|██████████| 11/11 [00:03<00:00,  3.37it/s]\n",
      "100%|██████████| 3/3 [00:00<00:00,  4.88it/s]\n"
     ]
    },
    {
     "name": "stdout",
     "output_type": "stream",
     "text": [
      "Train -- Loss: 0.0041 | Precision: 0.9969 | Recall: 0.9964 | F1: 0.9964\n",
      "Val   -- Loss: 0.7248 | Precision: 0.8305 | Recall: 0.8297 | F1: 0.8253\n",
      "Time Elapsed: 0:00:03.881581, Time Remaining: 0:03:56.776441 \n",
      "\n",
      "Epoch 90/150\n"
     ]
    },
    {
     "name": "stderr",
     "output_type": "stream",
     "text": [
      "100%|██████████| 11/11 [00:03<00:00,  3.38it/s]\n",
      "100%|██████████| 3/3 [00:00<00:00,  4.88it/s]\n"
     ]
    },
    {
     "name": "stdout",
     "output_type": "stream",
     "text": [
      "Train -- Loss: 0.0051 | Precision: 0.9946 | Recall: 0.9938 | F1: 0.9939\n",
      "Val   -- Loss: 0.7164 | Precision: 0.8278 | Recall: 0.8304 | F1: 0.8257\n",
      "Time Elapsed: 0:00:03.872604, Time Remaining: 0:03:52.356240 \n",
      "\n",
      "Epoch 91/150\n"
     ]
    },
    {
     "name": "stderr",
     "output_type": "stream",
     "text": [
      "100%|██████████| 11/11 [00:03<00:00,  3.36it/s]\n",
      " 67%|██████▋   | 2/3 [00:00<00:00,  4.12it/s]"
     ]
    }
   ],
   "source": [
    "# Create logs folder\n",
    "logs_folder = \"logs\"\n",
    "os.makedirs(logs_folder, exist_ok=True)\n",
    "\n",
    "# Generate a filename for logging\n",
    "current_time = datetime.now().strftime(\"%Y-%m-%d_%H-%M-%S\")\n",
    "log_filename = f\"{logs_folder}/training_log_BERT1_{current_time}.txt\"\n",
    "\n",
    "# Set device\n",
    "device = torch.device('cuda' if torch.cuda.is_available() else 'cpu')\n",
    "lr = 2e-5\n",
    "optimizer = torch.optim.Adam(model.parameters(), lr=lr)\n",
    "model.to(device)\n",
    "\n",
    "# Metrics lists\n",
    "train_losses, train_precisions, train_recalls, train_f1_scores = [], [], [], []\n",
    "val_losses, val_precisions, val_recalls, val_f1_scores = [], [], [], []\n",
    "\n",
    "best_val_loss = float('inf')\n",
    "best_epoch = 0\n",
    "\n",
    "# Start training loop\n",
    "with open(log_filename, 'a') as log_file:\n",
    "    for epoch in range(num_epochs):\n",
    "        start_time = datetime.now()\n",
    "        print(f'Epoch {epoch + 1}/{num_epochs}')\n",
    "\n",
    "        # Training\n",
    "        train_loss, train_precision, train_recall, train_f1 = train(model, train_loader, optimizer, criterion, device)\n",
    "\n",
    "        # Validation\n",
    "        val_loss, val_precision, val_recall, val_f1 = evaluate(model, val_loader, criterion, device)\n",
    "\n",
    "\n",
    "        # Log results\n",
    "        wandb.log({\n",
    "            'Train Loss': train_loss, 'Train Precision': train_precision, 'Train Recall': train_recall, 'Train F1': train_f1,\n",
    "            'Val Loss': val_loss, 'Val Precision': val_precision, 'Val Recall': val_recall, 'Val F1': val_f1,\n",
    "        })\n",
    "\n",
    "        print(f'Train -- Loss: {train_loss:.4f} | Precision: {train_precision:.4f} | Recall: {train_recall:.4f} | F1: {train_f1:.4f}')\n",
    "        print(f'Val   -- Loss: {val_loss:.4f} | Precision: {val_precision:.4f} | Recall: {val_recall:.4f} | F1: {val_f1:.4f}')\n",
    "\n",
    "        log_file.write(f'Epoch {epoch + 1}/{num_epochs}\\n')\n",
    "        log_file.write(f'Train -- Loss: {train_loss:.4f} | Precision: {train_precision:.4f} | Recall: {train_recall:.4f} | F1: {train_f1:.4f}\\n')\n",
    "        log_file.write(f'Val   -- Loss: {val_loss:.4f} | Precision: {val_precision:.4f} | Recall: {val_recall:.4f} | F1: {val_f1:.4f}')\n",
    "        log_file.flush()\n",
    "\n",
    "        # Save the best model\n",
    "        if val_loss < best_val_loss:\n",
    "            best_val_loss = val_loss\n",
    "            best_epoch = epoch + 1\n",
    "            torch.save(model.state_dict(), f'best_model_BERT1.pt')\n",
    "\n",
    "        # Save metrics\n",
    "        train_losses.append(train_loss)\n",
    "        train_precisions.append(train_precision)\n",
    "        train_recalls.append(train_recall)\n",
    "        train_f1_scores.append(train_f1)\n",
    "\n",
    "        val_losses.append(val_loss)\n",
    "        val_precisions.append(val_precision)\n",
    "        val_recalls.append(val_recall)\n",
    "        val_f1_scores.append(val_f1)\n",
    "\n",
    "        # Calculate and print time remaining\n",
    "        elapsed_time = datetime.now() - start_time\n",
    "        remaining_time = (num_epochs - epoch - 1) * elapsed_time\n",
    "        print(f'Time Elapsed: {elapsed_time}, Time Remaining: {remaining_time} \\n')\n",
    "        torch.save(model.state_dict(), f'final_model_BERT1.pt')\n",
    "\n",
    "# Print the best epoch\n",
    "print(f\"Best Model: Epoch {best_epoch}, Best Validation Loss: {best_val_loss:.4f}\")\n",
    "print(f\"Path log file: {log_filename}\")"
   ]
  },
  {
   "cell_type": "code",
   "execution_count": null,
   "metadata": {},
   "outputs": [],
   "source": []
  }
 ],
 "metadata": {
  "kernelspec": {
   "display_name": "augllms",
   "language": "python",
   "name": "python3"
  },
  "language_info": {
   "codemirror_mode": {
    "name": "ipython",
    "version": 3
   },
   "file_extension": ".py",
   "mimetype": "text/x-python",
   "name": "python",
   "nbconvert_exporter": "python",
   "pygments_lexer": "ipython3",
   "version": "3.11.8"
  }
 },
 "nbformat": 4,
 "nbformat_minor": 2
}
