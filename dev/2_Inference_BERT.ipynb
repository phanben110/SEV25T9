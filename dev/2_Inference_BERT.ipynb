{
 "cells": [
  {
   "cell_type": "code",
   "execution_count": 1,
   "metadata": {},
   "outputs": [
    {
     "name": "stdout",
     "output_type": "stream",
     "text": [
      "/home/iir/work/ben/NCKU/IIR/SemEval2025_Task9\n",
      "/home/iir/work/ben/NCKU/IIR/SemEval2025_Task9\n"
     ]
    },
    {
     "name": "stderr",
     "output_type": "stream",
     "text": [
      "/root/anaconda3/envs/augllms/lib/python3.11/site-packages/tqdm/auto.py:21: TqdmWarning: IProgress not found. Please update jupyter and ipywidgets. See https://ipywidgets.readthedocs.io/en/stable/user_install.html\n",
      "  from .autonotebook import tqdm as notebook_tqdm\n"
     ]
    }
   ],
   "source": [
    "import os\n",
    "%cd /home/iir/work/ben/NCKU/IIR/SemEval2025_Task9\n",
    "!pwd\n",
    "import inference"
   ]
  },
  {
   "cell_type": "code",
   "execution_count": 2,
   "metadata": {},
   "outputs": [
    {
     "name": "stderr",
     "output_type": "stream",
     "text": [
      "Predicting: 100%|██████████| 565/565 [00:09<00:00, 60.32it/s]\n",
      "Predicting: 100%|██████████| 565/565 [00:08<00:00, 62.81it/s]\n"
     ]
    }
   ],
   "source": [
    "test_data_path = 'data/incidents_val.csv'\n",
    "\n",
    "label_hazard_category = 'models/ST1/hazard_category/hazard-category_label_encoder.npy'\n",
    "label_product_category = 'models/ST1/product_category/product-category_label_encoder.npy'\n",
    "\n",
    "weight_hazard_category = 'models/ST1/hazard_category/best_st1_hazard_category_large_v7_500.pt'\n",
    "weight_product_category = 'models/ST1/product_category/best_st1_product_category_large_v7_500.pt'\n",
    "\n",
    "bert_model_name = \"microsoft/BiomedNLP-BiomedBERT-large-uncased-abstract\"\n",
    "# bert_model_name = \"microsoft/BiomedNLP-BiomedBERT-base-uncased-abstract\"\n",
    "\n",
    "# Run inference\n",
    "predicted_hazard_category, predicted_probs = inference.main(test_data_path, label_hazard_category, weight_hazard_category, bert_model_name, max_len=500) \n",
    "\n",
    "predicted_product_category, predicted_probs = inference.main(test_data_path, label_product_category, weight_product_category, bert_model_name, max_len=500)"
   ]
  },
  {
   "cell_type": "code",
   "execution_count": 3,
   "metadata": {},
   "outputs": [],
   "source": [
    "import pandas as pd \n",
    "predictions = pd.DataFrame()\n",
    "predictions[\"hazard-category\"] = predicted_hazard_category\n",
    "predictions[\"product-category\"] = predicted_product_category \n",
    "# predictions"
   ]
  },
  {
   "cell_type": "code",
   "execution_count": 4,
   "metadata": {},
   "outputs": [
    {
     "data": {
      "text/plain": [
       "'/home/iir/work/ben/NCKU/IIR/SemEval2025_Task9/submission/BERT_best_large_500_V7.zip'"
      ]
     },
     "execution_count": 4,
     "metadata": {},
     "output_type": "execute_result"
    }
   ],
   "source": [
    "# save predictions to a new folder:\n",
    "from shutil import make_archive\n",
    "name_folder = \"BERT_best_large_500_V7\"\n",
    "\n",
    "os.makedirs(f'submission/{name_folder}', exist_ok=True)\n",
    "predictions.to_csv(f'submission/{name_folder}/submission.csv')\n",
    "\n",
    "# zip the folder (zipfile can be directly uploaded to codalab):\n",
    "make_archive(f'submission/{name_folder}', 'zip', f'submission/{name_folder}')"
   ]
  },
  {
   "cell_type": "code",
   "execution_count": null,
   "metadata": {},
   "outputs": [],
   "source": []
  }
 ],
 "metadata": {
  "kernelspec": {
   "display_name": "augllms",
   "language": "python",
   "name": "python3"
  },
  "language_info": {
   "codemirror_mode": {
    "name": "ipython",
    "version": 3
   },
   "file_extension": ".py",
   "mimetype": "text/x-python",
   "name": "python",
   "nbconvert_exporter": "python",
   "pygments_lexer": "ipython3",
   "version": "3.11.8"
  }
 },
 "nbformat": 4,
 "nbformat_minor": 2
}
